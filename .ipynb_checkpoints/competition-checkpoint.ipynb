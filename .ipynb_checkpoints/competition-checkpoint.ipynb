{
 "cells": [
  {
   "cell_type": "code",
   "execution_count": 58,
   "id": "a7355373",
   "metadata": {},
   "outputs": [],
   "source": [
    "import pandas as pd\n",
    "import numpy as np\n",
    "import warnings\n",
    "from sklearn.model_selection import train_test_split\n",
    "warnings.filterwarnings(\"ignore\")"
   ]
  },
  {
   "cell_type": "markdown",
   "id": "f08d5ce8",
   "metadata": {},
   "source": [
    "### Read the data"
   ]
  },
  {
   "cell_type": "code",
   "execution_count": 59,
   "id": "7a5bbf65",
   "metadata": {},
   "outputs": [],
   "source": [
    "train = pd.read_csv('./train.csv',index_col=0)\n",
    "test = pd.read_csv('./test.csv',index_col=0)"
   ]
  },
  {
   "cell_type": "markdown",
   "id": "84dfe84b",
   "metadata": {},
   "source": [
    "### Handle null value（drop）"
   ]
  },
  {
   "cell_type": "code",
   "execution_count": 60,
   "id": "e3f47dc7",
   "metadata": {},
   "outputs": [
    {
     "data": {
      "text/plain": [
       "MO HLADR+ MFI (cells/ul)    1\n",
       "Neu CD64+MFI (cells/ul)     1\n",
       "CD3+T (cells/ul)            0\n",
       "CD8+T (cells/ul)            0\n",
       "CD4+T (cells/ul)            0\n",
       "NK (cells/ul)               0\n",
       "CD19+ (cells/ul)            0\n",
       "CD45+ (cells/ul)            0\n",
       "Age                         0\n",
       "Sex 0M1F                    0\n",
       "Mono CD64+MFI (cells/ul)    1\n",
       "label                       0\n",
       "dtype: int64"
      ]
     },
     "execution_count": 60,
     "metadata": {},
     "output_type": "execute_result"
    }
   ],
   "source": [
    "train.isnull().sum()"
   ]
  },
  {
   "cell_type": "code",
   "execution_count": 61,
   "id": "689d39df",
   "metadata": {},
   "outputs": [
    {
     "data": {
      "text/html": [
       "<div>\n",
       "<style scoped>\n",
       "    .dataframe tbody tr th:only-of-type {\n",
       "        vertical-align: middle;\n",
       "    }\n",
       "\n",
       "    .dataframe tbody tr th {\n",
       "        vertical-align: top;\n",
       "    }\n",
       "\n",
       "    .dataframe thead th {\n",
       "        text-align: right;\n",
       "    }\n",
       "</style>\n",
       "<table border=\"1\" class=\"dataframe\">\n",
       "  <thead>\n",
       "    <tr style=\"text-align: right;\">\n",
       "      <th></th>\n",
       "      <th>MO HLADR+ MFI (cells/ul)</th>\n",
       "      <th>Neu CD64+MFI (cells/ul)</th>\n",
       "      <th>CD3+T (cells/ul)</th>\n",
       "      <th>CD8+T (cells/ul)</th>\n",
       "      <th>CD4+T (cells/ul)</th>\n",
       "      <th>NK (cells/ul)</th>\n",
       "      <th>CD19+ (cells/ul)</th>\n",
       "      <th>CD45+ (cells/ul)</th>\n",
       "      <th>Age</th>\n",
       "      <th>Sex 0M1F</th>\n",
       "      <th>Mono CD64+MFI (cells/ul)</th>\n",
       "      <th>label</th>\n",
       "    </tr>\n",
       "  </thead>\n",
       "  <tbody>\n",
       "    <tr>\n",
       "      <th>count</th>\n",
       "      <td>86.000000</td>\n",
       "      <td>86.000000</td>\n",
       "      <td>86.000000</td>\n",
       "      <td>86.000000</td>\n",
       "      <td>86.000000</td>\n",
       "      <td>86.000000</td>\n",
       "      <td>86.000000</td>\n",
       "      <td>86.000000</td>\n",
       "      <td>86.000000</td>\n",
       "      <td>86.000000</td>\n",
       "      <td>86.000000</td>\n",
       "      <td>86.000000</td>\n",
       "    </tr>\n",
       "    <tr>\n",
       "      <th>mean</th>\n",
       "      <td>1264.244186</td>\n",
       "      <td>290.383721</td>\n",
       "      <td>978.454186</td>\n",
       "      <td>476.313372</td>\n",
       "      <td>494.259884</td>\n",
       "      <td>214.410465</td>\n",
       "      <td>117.928721</td>\n",
       "      <td>1321.717558</td>\n",
       "      <td>40.441860</td>\n",
       "      <td>0.488372</td>\n",
       "      <td>2066.534884</td>\n",
       "      <td>0.337209</td>\n",
       "    </tr>\n",
       "    <tr>\n",
       "      <th>std</th>\n",
       "      <td>765.452376</td>\n",
       "      <td>490.283499</td>\n",
       "      <td>619.751401</td>\n",
       "      <td>345.179243</td>\n",
       "      <td>313.607350</td>\n",
       "      <td>173.860206</td>\n",
       "      <td>96.451856</td>\n",
       "      <td>795.614103</td>\n",
       "      <td>10.312305</td>\n",
       "      <td>0.502797</td>\n",
       "      <td>1198.401364</td>\n",
       "      <td>0.475530</td>\n",
       "    </tr>\n",
       "    <tr>\n",
       "      <th>min</th>\n",
       "      <td>112.000000</td>\n",
       "      <td>30.000000</td>\n",
       "      <td>74.400000</td>\n",
       "      <td>36.610000</td>\n",
       "      <td>39.590000</td>\n",
       "      <td>0.000000</td>\n",
       "      <td>4.200000</td>\n",
       "      <td>209.250000</td>\n",
       "      <td>19.000000</td>\n",
       "      <td>0.000000</td>\n",
       "      <td>72.000000</td>\n",
       "      <td>0.000000</td>\n",
       "    </tr>\n",
       "    <tr>\n",
       "      <th>25%</th>\n",
       "      <td>685.500000</td>\n",
       "      <td>77.500000</td>\n",
       "      <td>548.005000</td>\n",
       "      <td>236.880000</td>\n",
       "      <td>270.977500</td>\n",
       "      <td>81.730000</td>\n",
       "      <td>52.182500</td>\n",
       "      <td>778.807500</td>\n",
       "      <td>33.250000</td>\n",
       "      <td>0.000000</td>\n",
       "      <td>1461.250000</td>\n",
       "      <td>0.000000</td>\n",
       "    </tr>\n",
       "    <tr>\n",
       "      <th>50%</th>\n",
       "      <td>1108.500000</td>\n",
       "      <td>124.500000</td>\n",
       "      <td>865.095000</td>\n",
       "      <td>420.850000</td>\n",
       "      <td>447.115000</td>\n",
       "      <td>191.235000</td>\n",
       "      <td>88.410000</td>\n",
       "      <td>1179.270000</td>\n",
       "      <td>41.000000</td>\n",
       "      <td>0.000000</td>\n",
       "      <td>1757.500000</td>\n",
       "      <td>0.000000</td>\n",
       "    </tr>\n",
       "    <tr>\n",
       "      <th>75%</th>\n",
       "      <td>1602.250000</td>\n",
       "      <td>244.500000</td>\n",
       "      <td>1226.370000</td>\n",
       "      <td>620.815000</td>\n",
       "      <td>624.830000</td>\n",
       "      <td>264.862500</td>\n",
       "      <td>151.972500</td>\n",
       "      <td>1608.147500</td>\n",
       "      <td>49.750000</td>\n",
       "      <td>1.000000</td>\n",
       "      <td>2238.250000</td>\n",
       "      <td>1.000000</td>\n",
       "    </tr>\n",
       "    <tr>\n",
       "      <th>max</th>\n",
       "      <td>4145.000000</td>\n",
       "      <td>3124.000000</td>\n",
       "      <td>3791.230000</td>\n",
       "      <td>2548.100000</td>\n",
       "      <td>1517.810000</td>\n",
       "      <td>878.040000</td>\n",
       "      <td>485.860000</td>\n",
       "      <td>4757.280000</td>\n",
       "      <td>60.000000</td>\n",
       "      <td>1.000000</td>\n",
       "      <td>7515.000000</td>\n",
       "      <td>1.000000</td>\n",
       "    </tr>\n",
       "  </tbody>\n",
       "</table>\n",
       "</div>"
      ],
      "text/plain": [
       "       MO HLADR+ MFI (cells/ul)  Neu CD64+MFI (cells/ul)  CD3+T (cells/ul)  \\\n",
       "count                 86.000000                86.000000         86.000000   \n",
       "mean                1264.244186               290.383721        978.454186   \n",
       "std                  765.452376               490.283499        619.751401   \n",
       "min                  112.000000                30.000000         74.400000   \n",
       "25%                  685.500000                77.500000        548.005000   \n",
       "50%                 1108.500000               124.500000        865.095000   \n",
       "75%                 1602.250000               244.500000       1226.370000   \n",
       "max                 4145.000000              3124.000000       3791.230000   \n",
       "\n",
       "       CD8+T (cells/ul)  CD4+T (cells/ul)  NK (cells/ul)  CD19+ (cells/ul)  \\\n",
       "count         86.000000         86.000000      86.000000         86.000000   \n",
       "mean         476.313372        494.259884     214.410465        117.928721   \n",
       "std          345.179243        313.607350     173.860206         96.451856   \n",
       "min           36.610000         39.590000       0.000000          4.200000   \n",
       "25%          236.880000        270.977500      81.730000         52.182500   \n",
       "50%          420.850000        447.115000     191.235000         88.410000   \n",
       "75%          620.815000        624.830000     264.862500        151.972500   \n",
       "max         2548.100000       1517.810000     878.040000        485.860000   \n",
       "\n",
       "       CD45+ (cells/ul)        Age   Sex 0M1F  Mono CD64+MFI (cells/ul)  \\\n",
       "count         86.000000  86.000000  86.000000                 86.000000   \n",
       "mean        1321.717558  40.441860   0.488372               2066.534884   \n",
       "std          795.614103  10.312305   0.502797               1198.401364   \n",
       "min          209.250000  19.000000   0.000000                 72.000000   \n",
       "25%          778.807500  33.250000   0.000000               1461.250000   \n",
       "50%         1179.270000  41.000000   0.000000               1757.500000   \n",
       "75%         1608.147500  49.750000   1.000000               2238.250000   \n",
       "max         4757.280000  60.000000   1.000000               7515.000000   \n",
       "\n",
       "           label  \n",
       "count  86.000000  \n",
       "mean    0.337209  \n",
       "std     0.475530  \n",
       "min     0.000000  \n",
       "25%     0.000000  \n",
       "50%     0.000000  \n",
       "75%     1.000000  \n",
       "max     1.000000  "
      ]
     },
     "execution_count": 61,
     "metadata": {},
     "output_type": "execute_result"
    }
   ],
   "source": [
    "train.dropna(inplace=True)\n",
    "train.describe()"
   ]
  },
  {
   "cell_type": "markdown",
   "id": "0d21646b",
   "metadata": {},
   "source": [
    "### Simple EDA"
   ]
  },
  {
   "cell_type": "code",
   "execution_count": 125,
   "id": "457bc3b0",
   "metadata": {},
   "outputs": [
    {
     "data": {
      "image/png": "[encoded data removed]",
      "text/plain": [
       "<Figure size 432x288 with 1 Axes>"
      ]
     },
     "metadata": {
      "needs_background": "light"
     },
     "output_type": "display_data"
    }
   ],
   "source": [
    "class_dist = train['label'].value_counts()\n",
    "plt.title('Class Distribution')\n",
    "plt.barh(class_dist.index, class_dist.values)\n",
    "plt.yticks([0, 1])\n",
    "plt.show()"
   ]
  },
  {
   "cell_type": "markdown",
   "id": "cc524167",
   "metadata": {},
   "source": [
    "### Split the dataset"
   ]
  },
  {
   "cell_type": "code",
   "execution_count": 62,
   "id": "39336ab2",
   "metadata": {},
   "outputs": [
    {
     "data": {
      "text/html": [
       "<div>\n",
       "<style scoped>\n",
       "    .dataframe tbody tr th:only-of-type {\n",
       "        vertical-align: middle;\n",
       "    }\n",
       "\n",
       "    .dataframe tbody tr th {\n",
       "        vertical-align: top;\n",
       "    }\n",
       "\n",
       "    .dataframe thead th {\n",
       "        text-align: right;\n",
       "    }\n",
       "</style>\n",
       "<table border=\"1\" class=\"dataframe\">\n",
       "  <thead>\n",
       "    <tr style=\"text-align: right;\">\n",
       "      <th></th>\n",
       "      <th>MO HLADR+ MFI (cells/ul)</th>\n",
       "      <th>Neu CD64+MFI (cells/ul)</th>\n",
       "      <th>CD3+T (cells/ul)</th>\n",
       "      <th>CD8+T (cells/ul)</th>\n",
       "      <th>CD4+T (cells/ul)</th>\n",
       "      <th>NK (cells/ul)</th>\n",
       "      <th>CD19+ (cells/ul)</th>\n",
       "      <th>CD45+ (cells/ul)</th>\n",
       "      <th>Age</th>\n",
       "      <th>Sex 0M1F</th>\n",
       "      <th>Mono CD64+MFI (cells/ul)</th>\n",
       "    </tr>\n",
       "    <tr>\n",
       "      <th>id</th>\n",
       "      <th></th>\n",
       "      <th></th>\n",
       "      <th></th>\n",
       "      <th></th>\n",
       "      <th></th>\n",
       "      <th></th>\n",
       "      <th></th>\n",
       "      <th></th>\n",
       "      <th></th>\n",
       "      <th></th>\n",
       "      <th></th>\n",
       "    </tr>\n",
       "  </thead>\n",
       "  <tbody>\n",
       "    <tr>\n",
       "      <th>0</th>\n",
       "      <td>3556.0</td>\n",
       "      <td>2489.0</td>\n",
       "      <td>265.19</td>\n",
       "      <td>77.53</td>\n",
       "      <td>176.55</td>\n",
       "      <td>0.00</td>\n",
       "      <td>4.20</td>\n",
       "      <td>307.91</td>\n",
       "      <td>52</td>\n",
       "      <td>0</td>\n",
       "      <td>7515.0</td>\n",
       "    </tr>\n",
       "    <tr>\n",
       "      <th>1</th>\n",
       "      <td>1906.0</td>\n",
       "      <td>134.0</td>\n",
       "      <td>1442.61</td>\n",
       "      <td>551.90</td>\n",
       "      <td>876.07</td>\n",
       "      <td>112.10</td>\n",
       "      <td>168.15</td>\n",
       "      <td>1735.48</td>\n",
       "      <td>20</td>\n",
       "      <td>1</td>\n",
       "      <td>1756.0</td>\n",
       "    </tr>\n",
       "    <tr>\n",
       "      <th>2</th>\n",
       "      <td>1586.0</td>\n",
       "      <td>71.0</td>\n",
       "      <td>1332.74</td>\n",
       "      <td>684.20</td>\n",
       "      <td>655.26</td>\n",
       "      <td>244.95</td>\n",
       "      <td>216.52</td>\n",
       "      <td>1820.04</td>\n",
       "      <td>28</td>\n",
       "      <td>1</td>\n",
       "      <td>1311.0</td>\n",
       "    </tr>\n",
       "    <tr>\n",
       "      <th>3</th>\n",
       "      <td>683.0</td>\n",
       "      <td>94.0</td>\n",
       "      <td>419.23</td>\n",
       "      <td>255.80</td>\n",
       "      <td>162.17</td>\n",
       "      <td>72.05</td>\n",
       "      <td>44.68</td>\n",
       "      <td>538.22</td>\n",
       "      <td>55</td>\n",
       "      <td>1</td>\n",
       "      <td>1443.0</td>\n",
       "    </tr>\n",
       "    <tr>\n",
       "      <th>4</th>\n",
       "      <td>1032.0</td>\n",
       "      <td>71.0</td>\n",
       "      <td>1102.72</td>\n",
       "      <td>480.27</td>\n",
       "      <td>625.30</td>\n",
       "      <td>188.78</td>\n",
       "      <td>130.77</td>\n",
       "      <td>1427.97</td>\n",
       "      <td>28</td>\n",
       "      <td>1</td>\n",
       "      <td>1542.0</td>\n",
       "    </tr>\n",
       "  </tbody>\n",
       "</table>\n",
       "</div>"
      ],
      "text/plain": [
       "    MO HLADR+ MFI (cells/ul)  Neu CD64+MFI (cells/ul)  CD3+T (cells/ul)  \\\n",
       "id                                                                        \n",
       "0                     3556.0                   2489.0            265.19   \n",
       "1                     1906.0                    134.0           1442.61   \n",
       "2                     1586.0                     71.0           1332.74   \n",
       "3                      683.0                     94.0            419.23   \n",
       "4                     1032.0                     71.0           1102.72   \n",
       "\n",
       "    CD8+T (cells/ul)  CD4+T (cells/ul)  NK (cells/ul)  CD19+ (cells/ul)  \\\n",
       "id                                                                        \n",
       "0              77.53            176.55           0.00              4.20   \n",
       "1             551.90            876.07         112.10            168.15   \n",
       "2             684.20            655.26         244.95            216.52   \n",
       "3             255.80            162.17          72.05             44.68   \n",
       "4             480.27            625.30         188.78            130.77   \n",
       "\n",
       "    CD45+ (cells/ul)  Age  Sex 0M1F  Mono CD64+MFI (cells/ul)  \n",
       "id                                                             \n",
       "0             307.91   52         0                    7515.0  \n",
       "1            1735.48   20         1                    1756.0  \n",
       "2            1820.04   28         1                    1311.0  \n",
       "3             538.22   55         1                    1443.0  \n",
       "4            1427.97   28         1                    1542.0  "
      ]
     },
     "execution_count": 62,
     "metadata": {},
     "output_type": "execute_result"
    }
   ],
   "source": [
    "#split the label of target\n",
    "X = train.drop('label',axis=1) #Predictors\n",
    "y = train['label'] #Label\n",
    "X.head()"
   ]
  },
  {
   "cell_type": "code",
   "execution_count": 63,
   "id": "5f731282",
   "metadata": {},
   "outputs": [],
   "source": [
    "#split the training and validation dataset\n",
    "from sklearn.model_selection import train_test_split\n",
    "X_train, X_test, y_train, y_test = train_test_split(X, y, test_size=0.2, random_state=42)"
   ]
  },
  {
   "cell_type": "markdown",
   "id": "62e8d198",
   "metadata": {},
   "source": [
    "### Model 1 Logistic Regression"
   ]
  },
  {
   "cell_type": "code",
   "execution_count": 64,
   "id": "ecc721f4",
   "metadata": {},
   "outputs": [
    {
     "data": {
      "text/plain": [
       "0.8888888888888888"
      ]
     },
     "execution_count": 64,
     "metadata": {},
     "output_type": "execute_result"
    }
   ],
   "source": [
    "from sklearn.linear_model import LogisticRegression\n",
    "clf = LogisticRegression(random_state=0,solver='lbfgs', max_iter=1000).fit(X_train, y_train)\n",
    "clf.score(X_test,y_test)"
   ]
  },
  {
   "cell_type": "markdown",
   "id": "d3ae5c9e",
   "metadata": {},
   "source": [
    "### Model 2 SVM"
   ]
  },
  {
   "cell_type": "code",
   "execution_count": 65,
   "id": "bf041849",
   "metadata": {},
   "outputs": [
    {
     "data": {
      "text/plain": [
       "0.8888888888888888"
      ]
     },
     "execution_count": 65,
     "metadata": {},
     "output_type": "execute_result"
    }
   ],
   "source": [
    "from sklearn import svm\n",
    "clf4 = svm.SVC(kernel='linear', C=1).fit(X_train, y_train)\n",
    "clf4.score(X_test,y_test)"
   ]
  },
  {
   "cell_type": "code",
   "execution_count": 17,
   "id": "dbe76e86",
   "metadata": {},
   "outputs": [
    {
     "data": {
      "text/plain": [
       "0.9444444444444444"
      ]
     },
     "execution_count": 17,
     "metadata": {},
     "output_type": "execute_result"
    }
   ],
   "source": [
    "clf4 = svm.SVC(kernel='poly', C=1).fit(X_train, y_train)\n",
    "clf4.score(X_test,y_test)"
   ]
  },
  {
   "cell_type": "code",
   "execution_count": 18,
   "id": "b4f6a627",
   "metadata": {},
   "outputs": [
    {
     "data": {
      "text/plain": [
       "0.7222222222222222"
      ]
     },
     "execution_count": 18,
     "metadata": {},
     "output_type": "execute_result"
    }
   ],
   "source": [
    "clf5 = svm.SVC(kernel='rbf', C=1).fit(X_train, y_train)\n",
    "clf5.score(X_test,y_test)"
   ]
  },
  {
   "cell_type": "markdown",
   "id": "0b6a7c35",
   "metadata": {},
   "source": [
    "### Model 3 Decision Tree"
   ]
  },
  {
   "cell_type": "code",
   "execution_count": 19,
   "id": "3ef478f4",
   "metadata": {},
   "outputs": [
    {
     "data": {
      "text/plain": [
       "0.9444444444444444"
      ]
     },
     "execution_count": 19,
     "metadata": {},
     "output_type": "execute_result"
    }
   ],
   "source": [
    "from sklearn import tree\n",
    "clf7 = tree.DecisionTreeClassifier(criterion=\"gini\").fit(X_train, y_train)\n",
    "clf7.score(X_test,y_test)"
   ]
  },
  {
   "cell_type": "markdown",
   "id": "5d0b0faa",
   "metadata": {},
   "source": [
    "### Model 4 Random Forest"
   ]
  },
  {
   "cell_type": "code",
   "execution_count": 20,
   "id": "c7afe9e0",
   "metadata": {},
   "outputs": [
    {
     "data": {
      "text/plain": [
       "0.9444444444444444"
      ]
     },
     "execution_count": 20,
     "metadata": {},
     "output_type": "execute_result"
    }
   ],
   "source": [
    "from sklearn.ensemble import RandomForestClassifier\n",
    "clf2 = RandomForestClassifier(max_depth=20,n_estimators = 17).fit(X_train, y_train)\n",
    "clf2.score(X_test,y_test)"
   ]
  },
  {
   "cell_type": "code",
   "execution_count": null,
   "id": "5faadd47",
   "metadata": {},
   "outputs": [],
   "source": [
    "#submission = pd.DataFrame({'id':np.arange(len(label_pred2)),'label': label_pred2.astype(int)})\n",
    "#submission.to_csv('submission.csv', index=False)"
   ]
  },
  {
   "cell_type": "markdown",
   "id": "8fe4c708",
   "metadata": {},
   "source": [
    "### Model 5 Adaboost"
   ]
  },
  {
   "cell_type": "code",
   "execution_count": 21,
   "id": "bbb50f53",
   "metadata": {},
   "outputs": [
    {
     "data": {
      "text/plain": [
       "0.8333333333333334"
      ]
     },
     "execution_count": 21,
     "metadata": {},
     "output_type": "execute_result"
    }
   ],
   "source": [
    "from sklearn.ensemble import AdaBoostClassifier\n",
    "clf3 = AdaBoostClassifier(n_estimators = 50).fit(X_train, y_train)\n",
    "clf3.score(X_test,y_test)"
   ]
  },
  {
   "cell_type": "markdown",
   "id": "af69eaf5",
   "metadata": {},
   "source": [
    "### Model 6 KNN"
   ]
  },
  {
   "cell_type": "code",
   "execution_count": 22,
   "id": "87daea00",
   "metadata": {},
   "outputs": [
    {
     "data": {
      "text/plain": [
       "0.9444444444444444"
      ]
     },
     "execution_count": 22,
     "metadata": {},
     "output_type": "execute_result"
    }
   ],
   "source": [
    "from sklearn.neighbors import KNeighborsClassifier\n",
    "clf6 = KNeighborsClassifier(n_neighbors=3).fit(X_train, y_train)\n",
    "clf6.score(X_test,y_test)"
   ]
  },
  {
   "cell_type": "code",
   "execution_count": null,
   "id": "816747d2",
   "metadata": {},
   "outputs": [],
   "source": [
    "#submission = pd.DataFrame({'id':np.arange(len(label_pred2)),'label': label_pred2.astype(int)})\n",
    "#submission.to_csv('submission.csv', index=False)"
   ]
  },
  {
   "cell_type": "markdown",
   "id": "c7e83bf4",
   "metadata": {},
   "source": [
    "### Model 7 NN (deep learning)"
   ]
  },
  {
   "cell_type": "code",
   "execution_count": 66,
   "id": "1b016d06",
   "metadata": {},
   "outputs": [],
   "source": [
    "import torch\n",
    "import torch.optim as optim\n",
    "from torch import nn\n",
    "import torch.nn.functional as F\n",
    "from sklearn.preprocessing import StandardScaler\n",
    "from torch.utils.data import TensorDataset, DataLoader\n",
    "import time\n",
    "from IPython.display import display\n",
    "import numpy as np\n",
    "import matplotlib.pyplot as plt\n",
    "import pandas as pd\n",
    "import seaborn as sns\n",
    "from sklearn.model_selection import StratifiedKFold"
   ]
  },
  {
   "cell_type": "code",
   "execution_count": 67,
   "id": "e17bb7bd",
   "metadata": {},
   "outputs": [],
   "source": [
    "# Randomize initial weights \n",
    "def init_weights_u(m):\n",
    "    if type(m) == nn.Linear:\n",
    "        nn.init.normal_(m.weight,std=0.01)\n",
    "\n",
    "class BinaryClassNet(nn.Module):\n",
    "    def __init__(self,input_units,hidden_units):\n",
    "        super(BinaryClassNet,self).__init__()\n",
    "        self.fc1 = nn.Linear(input_units, hidden_units)\n",
    "        self.fc2 = nn.Linear(hidden_units,1)\n",
    "        self.apply(init_weights_u)\n",
    "\n",
    "    def forward(self, x):\n",
    "        x = F.relu(self.fc1(x))\n",
    "        x = torch.sigmoid(self.fc2(x))\n",
    "        return x"
   ]
  },
  {
   "cell_type": "code",
   "execution_count": 52,
   "id": "bfb28447",
   "metadata": {},
   "outputs": [],
   "source": [
    "#feature scaling\n",
    "sc = StandardScaler()\n",
    "X = sc.fit_transform(X)"
   ]
  },
  {
   "cell_type": "code",
   "execution_count": 115,
   "id": "68925d2a",
   "metadata": {},
   "outputs": [],
   "source": [
    "skf = StratifiedKFold(n_splits=3,random_state=42,shuffle=True)\n",
    "trainset_split = skf.split(X,y)\n",
    "train_idx, test_idx = next(trainset_split.__iter__())\n",
    "# Set batch size\n",
    "trainset_train = TensorDataset(torch.Tensor(np.array(X.iloc[train_idx,])),torch.Tensor(np.array(y.iloc[train_idx]))) \n",
    "trainset_train_loader = DataLoader(trainset_train,batch_size=32) "
   ]
  },
  {
   "cell_type": "code",
   "execution_count": 116,
   "id": "aa02d7e2",
   "metadata": {},
   "outputs": [],
   "source": [
    "net = BinaryClassNet(11,5)\n",
    "criterion = nn.BCELoss()\n",
    "optimizer = optim.SGD(net.parameters(), lr=0.0001)"
   ]
  },
  {
   "cell_type": "code",
   "execution_count": 117,
   "id": "f3a96302",
   "metadata": {},
   "outputs": [
    {
     "name": "stdout",
     "output_type": "stream",
     "text": [
      "epoch: 0\tbatch: 0\tloss: 0.70682\tacc_train: 0.66667\tacc_test: 0.65517\n",
      "epoch: 0\tbatch: 1\tloss: 0.70969\tacc_train: 0.66667\tacc_test: 0.65517\n",
      "epoch: 5\tbatch: 0\tloss: 0.56922\tacc_train: 0.70175\tacc_test: 0.65517\n",
      "epoch: 5\tbatch: 1\tloss: 0.57609\tacc_train: 0.70175\tacc_test: 0.65517\n",
      "epoch: 10\tbatch: 0\tloss: 0.50370\tacc_train: 0.78947\tacc_test: 0.68966\n",
      "epoch: 10\tbatch: 1\tloss: 0.50051\tacc_train: 0.78947\tacc_test: 0.68966\n",
      "epoch: 15\tbatch: 0\tloss: 0.46822\tacc_train: 0.78947\tacc_test: 0.79310\n",
      "epoch: 15\tbatch: 1\tloss: 0.45839\tacc_train: 0.78947\tacc_test: 0.79310\n",
      "epoch: 20\tbatch: 0\tloss: 0.44765\tacc_train: 0.82456\tacc_test: 0.82759\n",
      "epoch: 20\tbatch: 1\tloss: 0.43224\tacc_train: 0.82456\tacc_test: 0.79310\n",
      "epoch: 25\tbatch: 0\tloss: 0.43416\tacc_train: 0.82456\tacc_test: 0.89655\n",
      "epoch: 25\tbatch: 1\tloss: 0.41172\tacc_train: 0.82456\tacc_test: 0.89655\n",
      "epoch: 30\tbatch: 0\tloss: 0.42515\tacc_train: 0.80702\tacc_test: 0.89655\n",
      "epoch: 30\tbatch: 1\tloss: 0.39632\tacc_train: 0.80702\tacc_test: 0.89655\n",
      "epoch: 35\tbatch: 0\tloss: 0.41859\tacc_train: 0.80702\tacc_test: 0.89655\n",
      "epoch: 35\tbatch: 1\tloss: 0.38453\tacc_train: 0.80702\tacc_test: 0.89655\n",
      "epoch: 40\tbatch: 0\tloss: 0.41335\tacc_train: 0.82456\tacc_test: 0.89655\n",
      "epoch: 40\tbatch: 1\tloss: 0.37540\tacc_train: 0.80702\tacc_test: 0.89655\n",
      "epoch: 45\tbatch: 0\tloss: 0.40890\tacc_train: 0.82456\tacc_test: 0.89655\n",
      "epoch: 45\tbatch: 1\tloss: 0.36794\tacc_train: 0.82456\tacc_test: 0.89655\n",
      "epoch: 50\tbatch: 0\tloss: 0.40488\tacc_train: 0.82456\tacc_test: 0.89655\n",
      "epoch: 50\tbatch: 1\tloss: 0.36155\tacc_train: 0.82456\tacc_test: 0.89655\n",
      "epoch: 55\tbatch: 0\tloss: 0.40095\tacc_train: 0.82456\tacc_test: 0.89655\n",
      "epoch: 55\tbatch: 1\tloss: 0.35603\tacc_train: 0.82456\tacc_test: 0.89655\n",
      "epoch: 60\tbatch: 0\tloss: 0.39724\tacc_train: 0.82456\tacc_test: 0.89655\n",
      "epoch: 60\tbatch: 1\tloss: 0.35080\tacc_train: 0.82456\tacc_test: 0.89655\n",
      "epoch: 65\tbatch: 0\tloss: 0.39465\tacc_train: 0.82456\tacc_test: 0.89655\n",
      "epoch: 65\tbatch: 1\tloss: 0.34598\tacc_train: 0.82456\tacc_test: 0.89655\n",
      "epoch: 70\tbatch: 0\tloss: 0.39181\tacc_train: 0.82456\tacc_test: 0.89655\n",
      "epoch: 70\tbatch: 1\tloss: 0.34174\tacc_train: 0.82456\tacc_test: 0.89655\n",
      "epoch: 75\tbatch: 0\tloss: 0.38910\tacc_train: 0.82456\tacc_test: 0.89655\n",
      "epoch: 75\tbatch: 1\tloss: 0.33797\tacc_train: 0.82456\tacc_test: 0.89655\n",
      "epoch: 80\tbatch: 0\tloss: 0.38622\tacc_train: 0.82456\tacc_test: 0.89655\n",
      "epoch: 80\tbatch: 1\tloss: 0.33425\tacc_train: 0.82456\tacc_test: 0.89655\n",
      "epoch: 85\tbatch: 0\tloss: 0.38348\tacc_train: 0.82456\tacc_test: 0.93103\n",
      "epoch: 85\tbatch: 1\tloss: 0.33061\tacc_train: 0.82456\tacc_test: 0.89655\n",
      "epoch: 90\tbatch: 0\tloss: 0.38085\tacc_train: 0.82456\tacc_test: 0.93103\n",
      "epoch: 90\tbatch: 1\tloss: 0.32705\tacc_train: 0.84211\tacc_test: 0.93103\n",
      "epoch: 95\tbatch: 0\tloss: 0.37826\tacc_train: 0.85965\tacc_test: 0.96552\n",
      "epoch: 95\tbatch: 1\tloss: 0.32360\tacc_train: 0.84211\tacc_test: 0.93103\n",
      "epoch: 100\tbatch: 0\tloss: 0.37540\tacc_train: 0.85965\tacc_test: 0.96552\n",
      "epoch: 100\tbatch: 1\tloss: 0.32022\tacc_train: 0.85965\tacc_test: 0.96552\n",
      "epoch: 105\tbatch: 0\tloss: 0.37281\tacc_train: 0.85965\tacc_test: 0.96552\n",
      "epoch: 105\tbatch: 1\tloss: 0.31703\tacc_train: 0.85965\tacc_test: 0.96552\n",
      "epoch: 110\tbatch: 0\tloss: 0.37052\tacc_train: 0.85965\tacc_test: 0.96552\n",
      "epoch: 110\tbatch: 1\tloss: 0.31395\tacc_train: 0.85965\tacc_test: 0.96552\n",
      "epoch: 115\tbatch: 0\tloss: 0.36783\tacc_train: 0.85965\tacc_test: 0.96552\n",
      "epoch: 115\tbatch: 1\tloss: 0.31071\tacc_train: 0.85965\tacc_test: 0.96552\n",
      "epoch: 120\tbatch: 0\tloss: 0.36569\tacc_train: 0.85965\tacc_test: 0.96552\n",
      "epoch: 120\tbatch: 1\tloss: 0.30780\tacc_train: 0.85965\tacc_test: 0.96552\n",
      "epoch: 125\tbatch: 0\tloss: 0.36295\tacc_train: 0.85965\tacc_test: 0.96552\n",
      "epoch: 125\tbatch: 1\tloss: 0.30493\tacc_train: 0.85965\tacc_test: 0.96552\n",
      "epoch: 130\tbatch: 0\tloss: 0.36067\tacc_train: 0.85965\tacc_test: 0.96552\n",
      "epoch: 130\tbatch: 1\tloss: 0.30191\tacc_train: 0.87719\tacc_test: 0.96552\n",
      "epoch: 135\tbatch: 0\tloss: 0.35848\tacc_train: 0.87719\tacc_test: 0.96552\n",
      "epoch: 135\tbatch: 1\tloss: 0.29925\tacc_train: 0.87719\tacc_test: 0.96552\n",
      "epoch: 140\tbatch: 0\tloss: 0.35604\tacc_train: 0.87719\tacc_test: 0.96552\n",
      "epoch: 140\tbatch: 1\tloss: 0.29648\tacc_train: 0.87719\tacc_test: 0.96552\n",
      "epoch: 145\tbatch: 0\tloss: 0.35378\tacc_train: 0.87719\tacc_test: 0.96552\n",
      "epoch: 145\tbatch: 1\tloss: 0.29381\tacc_train: 0.87719\tacc_test: 0.96552\n",
      "epoch: 150\tbatch: 0\tloss: 0.35146\tacc_train: 0.87719\tacc_test: 0.96552\n",
      "epoch: 150\tbatch: 1\tloss: 0.29113\tacc_train: 0.87719\tacc_test: 0.96552\n",
      "epoch: 155\tbatch: 0\tloss: 0.34910\tacc_train: 0.87719\tacc_test: 0.96552\n",
      "epoch: 155\tbatch: 1\tloss: 0.28859\tacc_train: 0.87719\tacc_test: 0.96552\n",
      "epoch: 160\tbatch: 0\tloss: 0.34673\tacc_train: 0.87719\tacc_test: 0.96552\n",
      "epoch: 160\tbatch: 1\tloss: 0.28617\tacc_train: 0.89474\tacc_test: 0.96552\n",
      "epoch: 165\tbatch: 0\tloss: 0.34410\tacc_train: 0.89474\tacc_test: 0.96552\n",
      "epoch: 165\tbatch: 1\tloss: 0.28394\tacc_train: 0.89474\tacc_test: 0.96552\n",
      "epoch: 170\tbatch: 0\tloss: 0.34156\tacc_train: 0.89474\tacc_test: 0.96552\n",
      "epoch: 170\tbatch: 1\tloss: 0.28179\tacc_train: 0.89474\tacc_test: 0.96552\n",
      "epoch: 175\tbatch: 0\tloss: 0.33977\tacc_train: 0.89474\tacc_test: 0.96552\n",
      "epoch: 175\tbatch: 1\tloss: 0.27934\tacc_train: 0.89474\tacc_test: 0.96552\n",
      "epoch: 180\tbatch: 0\tloss: 0.33801\tacc_train: 0.89474\tacc_test: 0.96552\n",
      "epoch: 180\tbatch: 1\tloss: 0.27697\tacc_train: 0.89474\tacc_test: 0.96552\n",
      "epoch: 185\tbatch: 0\tloss: 0.33633\tacc_train: 0.89474\tacc_test: 0.96552\n",
      "epoch: 185\tbatch: 1\tloss: 0.27473\tacc_train: 0.89474\tacc_test: 0.96552\n",
      "epoch: 190\tbatch: 0\tloss: 0.33480\tacc_train: 0.89474\tacc_test: 0.96552\n",
      "epoch: 190\tbatch: 1\tloss: 0.27253\tacc_train: 0.89474\tacc_test: 0.96552\n",
      "epoch: 195\tbatch: 0\tloss: 0.33295\tacc_train: 0.89474\tacc_test: 0.96552\n",
      "epoch: 195\tbatch: 1\tloss: 0.27048\tacc_train: 0.89474\tacc_test: 0.96552\n",
      "Finished Training\n"
     ]
    }
   ],
   "source": [
    "losses = []\n",
    "for epoch in range(200):  # loop over the dataset multiple times\n",
    "\n",
    "    running_loss = 0.0\n",
    "    \n",
    "    for i, data in enumerate(trainset_train_loader, 0):\n",
    "        \n",
    "        # get the inputs; data is a list of [inputs, labels]\n",
    "        inputs, labels = data\n",
    "\n",
    "        # zero the parameter gradients\n",
    "        optimizer.zero_grad()\n",
    "\n",
    "        # forward\n",
    "        outputs = net(inputs)\n",
    "        loss = criterion(outputs, labels.reshape(-1,1))\n",
    "\n",
    "        #accuracy\n",
    "        predicted_test = net(torch.tensor(np.array(X.iloc[test_idx,]),dtype=torch.float32))\n",
    "        acc_test = (predicted_test.reshape(-1).detach().numpy().round() == np.array(y.iloc[test_idx])).mean()\n",
    "        predicted_train = net(torch.tensor(np.array(X.iloc[train_idx,]),dtype=torch.float32))\n",
    "        acc_train = (predicted_train.reshape(-1).detach().numpy().round() == np.array(y.iloc[train_idx])).mean()\n",
    "\n",
    "        #backprop\n",
    "        loss.backward()\n",
    "        optimizer.step()\n",
    "\n",
    "        # print statistics\n",
    "        if epoch%5 == 0 & i%4==0:\n",
    "            losses.append(loss)\n",
    "            #accur.append(acc)\n",
    "            print(f\"epoch: {epoch}\\tbatch: {i}\\tloss: {loss:.5f}\\tacc_train: {acc_train:.5f}\\tacc_test: {acc_test:.5f}\")\n",
    "print('Finished Training')"
   ]
  },
  {
   "cell_type": "code",
   "execution_count": 119,
   "id": "620fdbb3",
   "metadata": {},
   "outputs": [],
   "source": [
    "PATH = './competition.pth'\n",
    "torch.save(net.state_dict(), PATH)"
   ]
  },
  {
   "cell_type": "code",
   "execution_count": 118,
   "id": "5badc677",
   "metadata": {},
   "outputs": [],
   "source": [
    "test_set_pred = net(torch.tensor(np.array(test),dtype=torch.float32))\n",
    "label_pred = test_set_pred.reshape(-1).detach().numpy().round()\n",
    "submission = pd.DataFrame({'id':np.arange(len(label_pred)),'label': label_pred.astype(int)})\n",
    "submission.to_csv('submission_4.csv', index=False)"
   ]
  },
  {
   "cell_type": "markdown",
   "id": "ad0857e6",
   "metadata": {},
   "source": [
    "### Conclusion"
   ]
  },
  {
   "cell_type": "markdown",
   "id": "39687bb6",
   "metadata": {},
   "source": [
    "#### I have used seven models to do this individual project\n",
    "#### Random Forest and KNN can reach the baseline of this competition\n",
    "#### NN with two layers can reach my highest score in kaggle \n",
    "#### I saved the model in the competition.pth"
   ]
  }
 ],
 "metadata": {
  "kernelspec": {
   "display_name": "Python [conda env:pytorch] *",
   "language": "python",
   "name": "conda-env-pytorch-py"
  },
  "language_info": {
   "codemirror_mode": {
    "name": "ipython",
    "version": 3
   },
   "file_extension": ".py",
   "mimetype": "text/x-python",
   "name": "python",
   "nbconvert_exporter": "python",
   "pygments_lexer": "ipython3",
   "version": "3.6.13"
  }
 },
 "nbformat": 4,
 "nbformat_minor": 5
}
